{
 "cells": [
  {
   "cell_type": "markdown",
   "metadata": {},
   "source": [
    "# IBM  Db2 Event Store Lab / Demo\n",
    "\n",
    "<p>This code provides some basic manipulation of the Event Store database.</p>"
   ]
  },
  {
   "cell_type": "markdown",
   "metadata": {},
   "source": [
    "## 1.  Connect to IBM Db2 Event Store\n",
    "To establish a connection to IBM Db2 Event Store, you need connection endpoints. Use the configuration reader to provide a set of APIs for Event Store connection and configuration.<br/>\n",
    "`# ConfigurationReader.setConnectionEndpoints(\"<HostName>:<PortNumber>\")`\n",
    "\n",
    "You can also specify multiple connection endpoints by providing a connection string that contains comma-separated list of HostName:PortNumber pairs.<br/>\n",
    "`# ConfigurationReader.setConnectionEndpoints(\"<HostName1>:<PortNumber1>,<HostName2>:<PortNumber2>,<Hostname3>:<PortNumber3>\")` \n",
    "\n",
    "Using the configuration reader API, set up the userID and password that will be used to connect to Event Store.\n",
    "\n",
    "Note that the `ConnectionEndpoint` IP address should be the same as in your browser URL."
   ]
  },
  {
   "cell_type": "code",
   "execution_count": 1,
   "metadata": {
    "collapsed": false
   },
   "outputs": [
    {
     "data": {
      "text/plain": [
       "u'2.0.2'"
      ]
     },
     "execution_count": 1,
     "metadata": {},
     "output_type": "execute_result"
    }
   ],
   "source": [
    "from eventstore.oltp import EventContext\n",
    "from eventstore.oltp.row_generator import generate_tele\n",
    "from eventstore.catalog import TableSchema, IndexSpecification, SortSpecification, ColumnOrder\n",
    "from pyspark.sql import SparkSession\n",
    "from pyspark.sql.types import *\n",
    "from eventstore.common import ConfigurationReader\n",
    "\n",
    "spark = SparkSession.builder.getOrCreate()\n",
    "ConfigurationReader.setConnectionEndpoints(\"169.48.209.252:1100\") # This should be the same IP address as this browser page\n",
    "ConfigurationReader.setEventUser(\"admin\")\n",
    "ConfigurationReader.setEventPassword(\"password\")\n",
    "spark.version"
   ]
  },
  {
   "cell_type": "markdown",
   "metadata": {},
   "source": [
    "## 2. Define a database  \n",
    "Only one database can be active in Db2 Event Store. If you already have a database, you don't need to create one.<br/>\n",
    "To create a database in Event Store, you can use the `createDatabase` method "
   ]
  },
  {
   "cell_type": "code",
   "execution_count": 2,
   "metadata": {
    "collapsed": false
   },
   "outputs": [
    {
     "data": {
      "text/plain": [
       "<eventstore.oltp.context.EventContext at 0x7f0e3d745e90>"
      ]
     },
     "execution_count": 2,
     "metadata": {},
     "output_type": "execute_result"
    }
   ],
   "source": [
    "# EventContext.drop_database(\"TESTDB\") # uncomment this line if you need to first drop the database\n",
    "EventContext.create_database(\"TESTDB\")"
   ]
  },
  {
   "cell_type": "markdown",
   "metadata": {
    "collapsed": false
   },
   "source": [
    "###  2.1 Open an existing database\n",
    "To use an existing database, use the following call:"
   ]
  },
  {
   "cell_type": "code",
   "execution_count": 3,
   "metadata": {
    "collapsed": false
   },
   "outputs": [],
   "source": [
    "ctx = EventContext.get_event_context(\"TESTDB\")"
   ]
  },
  {
   "cell_type": "markdown",
   "metadata": {},
   "source": [
    "<a id=\"create-table\"></a>\n",
    "## 3. Create your table"
   ]
  },
  {
   "cell_type": "markdown",
   "metadata": {},
   "source": [
    "### 3.1 Define a schema for the table\n",
    "To create a new table, you must first specify a schema for the table.\n",
    "Specify the columns, sharding key, and primary key, as required.<br/>\n",
    "Note that currently String is not supported as a primary key or sharding key.<br/>\n",
    "<i>The `timestamp` is not supported in the first release but still works</i>"
   ]
  },
  {
   "cell_type": "code",
   "execution_count": 4,
   "metadata": {
    "collapsed": false
   },
   "outputs": [],
   "source": [
    "from eventstore.catalog import TableSchema\n",
    "from pyspark.sql.types import *\n",
    "\n",
    "schema = StructType([\n",
    "        StructField(\"id\", LongType(), nullable = False),\n",
    "        StructField(\"taxiId\", StringType(), nullable = True),\n",
    "        StructField(\"tripId\", StringType(), nullable = True),\n",
    "        StructField(\"tripStartTime\", TimestampType(), nullable = True),\n",
    "        StructField(\"tripEndTime\", TimestampType(), nullable = True),\n",
    "        StructField(\"pickupLong\", DoubleType(), nullable = True),\n",
    "        StructField(\"pickupLat\", DoubleType(), nullable = True),\n",
    "        StructField(\"dropoffLong\", DoubleType(), nullable = True),\n",
    "        StructField(\"dropoffLat\", DoubleType(), nullable = True),\n",
    "        StructField(\"tripTotal\", DoubleType(), nullable = True),\n",
    "        StructField(\"tripMiles\", DoubleType(), nullable = True),\n",
    "        StructField(\"tripSeconds\", DoubleType(), nullable = True)\n",
    "])  \n",
    "table_schema = TableSchema(\"TaxiTrips\", schema,\n",
    "                            sharding_columns=[\"id\"],\n",
    "                            pk_columns=[\"id\"])"
   ]
  },
  {
   "cell_type": "markdown",
   "metadata": {},
   "source": [
    "<b>Tip:</b> Databases in Event Store are partitioned into shards. Any Event Store node of a multi-node Event Store cluster contains 0, 1 or N shards of the defined database. In addition to the mandatory shard key, there is also the option to provide a primary key. When this key is defined, Event Store ensures that only a single version of each primary key exists in the database.\n",
    "\n",
    "In the above example, a sharding key and a primary key are defined on column id. "
   ]
  },
  {
   "cell_type": "markdown",
   "metadata": {
    "collapsed": false
   },
   "source": [
    "<a id=\"create-table-two\"></a>\n",
    "### 3.2 Create the table\n",
    "Create the Event Store table based on the above, unresolved schema."
   ]
  },
  {
   "cell_type": "code",
   "execution_count": 5,
   "metadata": {
    "collapsed": false
   },
   "outputs": [
    {
     "name": "stdout",
     "output_type": "stream",
     "text": [
      "TaxiTrips\n"
     ]
    }
   ],
   "source": [
    "ctx.create_table(table_schema)\n",
    "table_names = ctx.get_names_of_tables()\n",
    "for idx, name in enumerate(table_names):\n",
    "    print(name)"
   ]
  },
  {
   "cell_type": "markdown",
   "metadata": {},
   "source": [
    "### 3.3 Start the insertion program\n",
    "There is a deamon program running on the machine that waits for a command to start the insertion\n",
    "<ul>\n",
    "<li>IP address: ignored in this environment</li>\n",
    "<li>rate      : records per second insertion rate</li>\n",
    "<li>db name   : name of the database used</li>\n",
    "<li>table name: name of the table</li>\n",
    "</ul>"
   ]
  },
  {
   "cell_type": "code",
   "execution_count": 6,
   "metadata": {
    "collapsed": false
   },
   "outputs": [
    {
     "name": "stdout",
     "output_type": "stream",
     "text": [
      "Insert process started\n",
      "\n"
     ]
    }
   ],
   "source": [
    "import socket               # Import socket module\n",
    "\n",
    "s = socket.socket()         # Create a socket object\n",
    "\n",
    "host = \"169.48.209.252\"    # same address as the URL in this browser\n",
    "port = 9292                # Port used vy the deamon program\n",
    "\n",
    "s.connect((host, port))\n",
    "# <ip address>,<rate>,<db name>,<table name>\n",
    "msg = \"9.80.91.202,100,TESTDB,TaxiTrips\\n\"\n",
    "s.send(msg.encode())\n",
    "ret = s.recv(1024).decode()\n",
    "s.close\n",
    "print(ret)"
   ]
  },
  {
   "cell_type": "markdown",
   "metadata": {},
   "source": [
    "## 4. Query the table "
   ]
  },
  {
   "cell_type": "markdown",
   "metadata": {},
   "source": [
    "<a id=\"connect-to-es-two\"></a>\n",
    "### 4.1 Connect to  Event Store \n",
    "\n",
    "When connecting Event Store for the first time, you need to provide connection endpoints using the configuration reader.<br/>\n",
    "If you are in the same session that created the database and table, you don't need to execute this step.<br/>\n",
    "If you are in a new session, make sure you executed step 1."
   ]
  },
  {
   "cell_type": "markdown",
   "metadata": {},
   "source": [
    "### 4.2 Create EventSession\n",
    "\n",
    "To run a Spark SQL query, you need to establish an Event Store Spark session."
   ]
  },
  {
   "cell_type": "code",
   "execution_count": 7,
   "metadata": {
    "collapsed": false
   },
   "outputs": [],
   "source": [
    "from eventstore.sql import EventSession\n",
    "\n",
    "eventSession = EventSession(spark.sparkContext, \"TESTDB\")\n",
    "eventSession.open_database()\n",
    "eventSession.set_query_read_option(\"SnapshotNone\")"
   ]
  },
  {
   "cell_type": "markdown",
   "metadata": {},
   "source": [
    "### 4.3 Prepare a DataFrame for the query \n",
    "The following API provides a DataFrame that holds the query results on the Event Store table. "
   ]
  },
  {
   "cell_type": "code",
   "execution_count": 8,
   "metadata": {
    "collapsed": true
   },
   "outputs": [],
   "source": [
    "reviewTab = eventSession.load_event_table(\"TaxiTrips\")\n",
    "reviewTab.createOrReplaceTempView(\"TaxiTrips\")"
   ]
  },
  {
   "cell_type": "markdown",
   "metadata": {},
   "source": [
    "### 4.4 Run the SQL query\n",
    "Now you can materialize the dataframe associated with the sql query by using show()."
   ]
  },
  {
   "cell_type": "code",
   "execution_count": 10,
   "metadata": {
    "collapsed": false
   },
   "outputs": [
    {
     "name": "stdout",
     "output_type": "stream",
     "text": [
      "+---------+\n",
      "|totalRows|\n",
      "+---------+\n",
      "|    10700|\n",
      "+---------+\n",
      "\n"
     ]
    }
   ],
   "source": [
    "resultSet1 = eventSession.sql(\"SELECT count(*) as totalRows FROM TaxiTrips\")\n",
    "resultSet1.show()"
   ]
  },
  {
   "cell_type": "markdown",
   "metadata": {},
   "source": [
    "This query shows an aggregation. Since it is executed after the previous one you should see a larger number of total records"
   ]
  },
  {
   "cell_type": "code",
   "execution_count": 11,
   "metadata": {
    "collapsed": false
   },
   "outputs": [
    {
     "name": "stdout",
     "output_type": "stream",
     "text": [
      "+--------------------+-----+------------------+------------------+-----------------+\n",
      "|       tripStartTime|count|          AvgTotal|          AvgMiles|      AvgDuration|\n",
      "+--------------------+-----+------------------+------------------+-----------------+\n",
      "|2013-01-01 06:00:...|  573|10.870471204188485|2.5656719022687593|566.6666666666666|\n",
      "|2013-01-01 06:15:...| 1368| 23.76663011695905| 3.043764619883037|560.2351212343865|\n",
      "|2013-01-01 06:30:...| 1486|19.510397039030956|2.9795020188425316|579.1216216216217|\n",
      "|2013-01-01 06:45:...| 1294|16.748902627511598| 2.677241112828437|566.2295081967213|\n",
      "|2013-01-01 07:00:...| 1235|18.931983805668004|2.8173441295546553|635.9901800327332|\n",
      "|2013-01-01 07:15:...| 1574|13.638074968233816| 2.667280813214737|600.1533546325878|\n",
      "|2013-01-01 07:30:...| 1912|15.658770920502079|2.6289121338912147|614.5637228979376|\n",
      "|2013-01-01 07:45:...| 1948|13.373942505133481|2.7539065708418873|633.5677352637022|\n",
      "|2013-01-01 08:00:...| 1945| 17.61454498714653|2.9372082262210744|639.9376947040498|\n",
      "|2013-01-01 08:15:...|  765|15.082287581699354|  2.86581699346405|           661.68|\n",
      "+--------------------+-----+------------------+------------------+-----------------+\n",
      "\n"
     ]
    }
   ],
   "source": [
    "resultSet2 = eventSession.sql(\"\"\"\n",
    "SELECT tripStartTime, count(*) as count, avg(tripTotal) as AvgTotal,\n",
    "                      avg(tripMiles) as AvgMiles, avg(tripSeconds) as AvgDuration\n",
    "FROM TaxiTrips\n",
    "GROUP BY tripStartTime\n",
    "ORDER BY tripStartTime\n",
    "\"\"\")\n",
    "resultSet2.show()"
   ]
  },
  {
   "cell_type": "code",
   "execution_count": 12,
   "metadata": {
    "collapsed": false
   },
   "outputs": [],
   "source": [
    "import pandas as pd\n",
    "import numpy as np\n",
    "import matplotlib.pyplot as plt\n",
    "%matplotlib inline"
   ]
  },
  {
   "cell_type": "code",
   "execution_count": 13,
   "metadata": {
    "collapsed": false
   },
   "outputs": [
    {
     "data": {
      "image/png": "[encoded data removed]",
      "text/plain": [
       "<matplotlib.figure.Figure at 0x7f0e2bf6d0d0>"
      ]
     },
     "metadata": {},
     "output_type": "display_data"
    }
   ],
   "source": [
    "resultSet2.toPandas().plot(kind='line', x='tripStartTime', y='count');"
   ]
  },
  {
   "cell_type": "markdown",
   "metadata": {},
   "source": [
    "### You can stop the loader program with the following cell\n",
    "Otherwise, it automatically stops after 30 minutes"
   ]
  },
  {
   "cell_type": "code",
   "execution_count": 14,
   "metadata": {
    "collapsed": false
   },
   "outputs": [
    {
     "name": "stdout",
     "output_type": "stream",
     "text": [
      "Insert process stopped\n",
      "\n"
     ]
    }
   ],
   "source": [
    "# Stop the loader program\n",
    "s = socket.socket()\n",
    "s.connect((host, port))\n",
    "msg = \"stop\\n\"\n",
    "s.send(msg.encode())\n",
    "ret = s.recv(1024).decode()\n",
    "s.close\n",
    "print(ret)"
   ]
  },
  {
   "cell_type": "code",
   "execution_count": null,
   "metadata": {
    "collapsed": true
   },
   "outputs": [],
   "source": []
  }
 ],
 "metadata": {
  "kernelspec": {
   "display_name": "Python2 with DSX Spark",
   "language": "python",
   "name": "python2"
  },
  "language_info": {
   "codemirror_mode": {
    "name": "ipython",
    "version": 2
   },
   "file_extension": ".py",
   "mimetype": "text/x-python",
   "name": "python",
   "nbconvert_exporter": "python",
   "pygments_lexer": "ipython2",
   "version": "2.7.13"
  }
 },
 "nbformat": 4,
 "nbformat_minor": 2
}
